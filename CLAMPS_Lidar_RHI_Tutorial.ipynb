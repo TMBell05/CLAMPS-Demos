{
 "cells": [
  {
   "cell_type": "markdown",
   "id": "7026e919",
   "metadata": {},
   "source": [
    "# CLAMPS Lidar RHI Tutorial\n",
    "\n",
    "This tutorial will show you how to work with Range Height Indicator (RHI) data from the Halo Photonics Streamline lidars with the CLAMPS systems at OU and NSSL.\n",
    "\n",
    "\n",
    "## Getting Data\n",
    "CLAMPS data is stored on a THREDDS server (https://data.nssl.noaa.gov/thredds/catalog/FRDD/CLAMPS/catalog.html). We are going to use Siphon to grab the data from the server. If you use Anaconda, Siphon can be download by running\n",
    "```\n",
    "conda install -c conda-forge siphon\n",
    "```\n",
    "on the command line. If you use pip the command would be\n",
    "```\n",
    "pip install siphon\n",
    "```\n",
    "\n",
    "## RHI Scans\n",
    "RHI scans are performed by keeping the scanner azimuth angle constant while changing the elevation angle. These scans are great for transects of features such as outflow boundaries, bores, cold fronts, etc. In larger field deployments, RHI's from multiple lidars that intersect might be performed to form virtual towers through a dual-Doppler analysis. Right now RHI's are not that common with the CLAMPS lidars, but have been used more frequently with the lidar truck.\n",
    "\n",
    "We are going to work with RHI data from the lidar truck during the BLISS-FUL campaign on July 7, 2021. This data is not on the THREDDS server yet so it was included in the directory I provided."
   ]
  },
  {
   "cell_type": "markdown",
   "id": "7482db3f",
   "metadata": {},
   "source": [
    "The data is in your working directory. It is a netCDF file so we are going to open it with the netCDF4 package and look at the variables in the netCDF file"
   ]
  },
  {
   "cell_type": "code",
   "execution_count": null,
   "id": "95370984",
   "metadata": {},
   "outputs": [],
   "source": [
    "from netCDF4 import Dataset\n",
    "\n",
    "nc = Dataset('dltruckdlotherDL1.b1.20210707.000000.cdf','r')\n",
    "\n",
    "print(nc)"
   ]
  },
  {
   "cell_type": "markdown",
   "id": "17cf70c9",
   "metadata": {},
   "source": [
    "We want to read in the hour, azimuth, elevation, scan number, velocity, intensity, and range variables."
   ]
  },
  {
   "cell_type": "code",
   "execution_count": null,
   "id": "a7169540",
   "metadata": {},
   "outputs": [],
   "source": [
    "hour = nc.variables['hour'][:]\n",
    "azimuth = nc.variables['azimuth'][:]\n",
    "elevation = nc.variables['elevation'][:]\n",
    "snum = nc.variables['snum'][:]\n",
    "velocity = nc.variables['velocity'][:]\n",
    "intensity = nc.variables['intensity'][:]\n",
    "rng = nc.variables['range'][:]\n",
    "nc.close()"
   ]
  },
  {
   "cell_type": "markdown",
   "id": "00960a9b",
   "metadata": {},
   "source": [
    "The data is not currently separated by scan. We need to use the scan number field to find the unique scans and seperate them so we can easily plot the RHI's"
   ]
  },
  {
   "cell_type": "code",
   "execution_count": null,
   "id": "10820349",
   "metadata": {},
   "outputs": [],
   "source": [
    "# np.unique returns sorted indices. We don't want that, so we are going \n",
    "# to only use the return_index option and make an unsorted unique array\n",
    "indexes = np.unique(snum, return_index=True)[1]\n",
    "u_snum = [snum[index] for index in sorted(indexes)]\n"
   ]
  },
  {
   "cell_type": "markdown",
   "id": "d89ced0d",
   "metadata": {},
   "source": [
    "Now lets plot an RHI for a random scan. First we have to calculate the x and z coordinates of each of the lidar bins in the scan."
   ]
  },
  {
   "cell_type": "code",
   "execution_count": null,
   "id": "3efbafc7",
   "metadata": {},
   "outputs": [],
   "source": [
    "import matplotlib.pyplot as plt\n",
    "\n",
    "# Use the intensity to threshold the data\n",
    "foo = np.where(intensity < 1.007)\n",
    "\n",
    "velocity[foo] = np.nan\n",
    "\n",
    "# Picking a random scan\n",
    "foo = np.where(u_snum[0] == snum)[0]\n",
    "\n",
    "#Here we are doing the trig to get the x and z coordinates\n",
    "x = np.cos(np.deg2rad(elevation[foo][:,None]))*rng[None,:]\n",
    "z = np.sin(np.deg2rad(elevation[foo][:,None]))*rng[None,:]\n",
    "\n",
    "# And now plot the RHI\n",
    "fig, (RHI) =  plt.subplots(1)\n",
    "fig.set_figheight(5)\n",
    "fig.set_figwidth(15)\n",
    "\n",
    "a = RHI.pcolormesh(x,z,velocity[foo,:],cmap ='RdBu_r',vmin=-6, vmax=6, shading = 'auto')\n",
    "\n",
    "RHI.set_ylim([0,2.5])\n",
    "RHI.set_xlim([-5,5])\n",
    "\n",
    "cb = plt.colorbar(a, ax=RHI)\n",
    "cb.set_label('[m/s]')\n",
    "\n",
    "RHI.set_ylabel('Height [km]')\n",
    "RHI.set_xlabel('Distance [km]')\n",
    "\n",
    "RHI.set_title('RHI Velocity at ' + str(np.nanmean(hour[foo]))+ ' UTC')\n",
    "plt.show()\n",
    "\n"
   ]
  },
  {
   "cell_type": "markdown",
   "id": "afec5794",
   "metadata": {},
   "source": [
    "Let's plot scans at other times throughout the night to see how the jet evolves."
   ]
  },
  {
   "cell_type": "code",
   "execution_count": null,
   "id": "7587c3a8",
   "metadata": {},
   "outputs": [],
   "source": [
    "# Picking a random scan\n",
    "foo = np.where(u_snum[30] == snum)[0]\n",
    "\n",
    "#Here we are doing the trig to get the x and z coordinates\n",
    "x = np.cos(np.deg2rad(elevation[foo][:,None]))*rng[None,:]\n",
    "z = np.sin(np.deg2rad(elevation[foo][:,None]))*rng[None,:]\n",
    "\n",
    "# And now plot the RHI\n",
    "fig, (RHI) =  plt.subplots(1)\n",
    "fig.set_figheight(5)\n",
    "fig.set_figwidth(15)\n",
    "\n",
    "a = RHI.pcolormesh(x,z,velocity[foo,:],cmap ='RdBu_r',vmin=-6, vmax=6, shading = 'auto')\n",
    "\n",
    "RHI.set_ylim([0,2.5])\n",
    "RHI.set_xlim([-5,5])\n",
    "\n",
    "cb = plt.colorbar(a, ax=RHI)\n",
    "cb.set_label('[m/s]')\n",
    "\n",
    "RHI.set_ylabel('Height [km]')\n",
    "RHI.set_xlabel('Distance [km]')\n",
    "\n",
    "RHI.set_title('RHI Velocity at ' + str(np.nanmean(hour[foo])) + ' UTC')\n",
    "plt.show()"
   ]
  },
  {
   "cell_type": "code",
   "execution_count": null,
   "id": "be5e7f76",
   "metadata": {},
   "outputs": [],
   "source": [
    "# Picking a random scan\n",
    "foo = np.where(u_snum[100] == snum)[0]\n",
    "\n",
    "#Here we are doing the trig to get the x and z coordinates\n",
    "x = np.cos(np.deg2rad(elevation[foo][:,None]))*rng[None,:]\n",
    "z = np.sin(np.deg2rad(elevation[foo][:,None]))*rng[None,:]\n",
    "\n",
    "# And now plot the RHI\n",
    "fig, (RHI) =  plt.subplots(1)\n",
    "fig.set_figheight(5)\n",
    "fig.set_figwidth(15)\n",
    "\n",
    "a = RHI.pcolormesh(x,z,velocity[foo,:],cmap ='RdBu_r',vmin=-6, vmax=6, shading = 'auto')\n",
    "\n",
    "RHI.set_ylim([0,2.5])\n",
    "RHI.set_xlim([-5,5])\n",
    "\n",
    "cb = plt.colorbar(a, ax=RHI)\n",
    "cb.set_label('[m/s]')\n",
    "\n",
    "RHI.set_ylabel('Height [km]')\n",
    "RHI.set_xlabel('Distance [km]')\n",
    "\n",
    "RHI.set_title('RHI Velocity at ' + str(np.nanmean(hour[foo]))+ ' UTC')\n",
    "plt.show()"
   ]
  },
  {
   "cell_type": "code",
   "execution_count": null,
   "id": "70cd7463",
   "metadata": {},
   "outputs": [],
   "source": [
    "# Picking a random scan\n",
    "foo = np.where(u_snum[170] == snum)[0]\n",
    "\n",
    "#Here we are doing the trig to get the x and z coordinates\n",
    "x = np.cos(np.deg2rad(elevation[foo][:,None]))*rng[None,:]\n",
    "z = np.sin(np.deg2rad(elevation[foo][:,None]))*rng[None,:]\n",
    "\n",
    "# And now plot the RHI\n",
    "fig, (RHI) =  plt.subplots(1)\n",
    "fig.set_figheight(5)\n",
    "fig.set_figwidth(15)\n",
    "\n",
    "a = RHI.pcolormesh(x,z,velocity[foo,:],cmap ='RdBu_r',vmin=-6, vmax=6, shading = 'auto')\n",
    "\n",
    "RHI.set_ylim([0,2.5])\n",
    "RHI.set_xlim([-5,5])\n",
    "\n",
    "cb = plt.colorbar(a, ax=RHI)\n",
    "cb.set_label('[m/s]')\n",
    "\n",
    "RHI.set_ylabel('Height [km]')\n",
    "RHI.set_xlabel('Distance [km]')\n",
    "\n",
    "RHI.set_title('RHI Velocity at ' + str(np.nanmean(hour[foo]))+ ' UTC')\n",
    "plt.show()"
   ]
  },
  {
   "cell_type": "code",
   "execution_count": null,
   "id": "2b3dcc94",
   "metadata": {},
   "outputs": [],
   "source": []
  }
 ],
 "metadata": {
  "kernelspec": {
   "display_name": "Python 3 (ipykernel)",
   "language": "python",
   "name": "python3"
  },
  "language_info": {
   "codemirror_mode": {
    "name": "ipython",
    "version": 3
   },
   "file_extension": ".py",
   "mimetype": "text/x-python",
   "name": "python",
   "nbconvert_exporter": "python",
   "pygments_lexer": "ipython3",
   "version": "3.9.7"
  }
 },
 "nbformat": 4,
 "nbformat_minor": 5
}
