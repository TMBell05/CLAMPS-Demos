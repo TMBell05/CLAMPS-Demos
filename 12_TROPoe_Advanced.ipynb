{
 "cells": [
  {
   "cell_type": "markdown",
   "id": "b16ca1ef-61e2-4d97-8d90-7e83d62ee932",
   "metadata": {},
   "source": [
    "# TROPoe - Advanced Analysis"
   ]
  },
  {
   "cell_type": "markdown",
   "id": "57844bbf-7fab-4498-8de8-7d39be2879b2",
   "metadata": {},
   "source": [
    "Welcome to the advanced notebook for the Tropospheric Remotely Observed Profiling via Optimal Estimation (TROPoe) agorithm. This notebook will go into more depth about some of the more important diagnostic variables we include in the file. Many times, if a retrieval looks _strange_ (and this can happen fairly often), then these diagnostic variables can give you a clue as to why. It is really important you know how the optimal estimation and TROPoe algorithm works to understand what is going on below. I highly reccomend reading Maahn et al. (2020) to get a sense of the assumptions that goes into optimal estimation. \n",
    "\n",
    "As a quick review, optimal estimation is a way to transform indirect observations of the atmosphere ($\\mathbf{Y}$) into our typical atmospheric variables, or state vector ($\\mathbf{X}$). To do this, we need some sort of forward model, $F(\\mathbf{X})$, which converts the state vector into the same observation type as contained in $\\mathbf{Y}$. We also need some sort of prior dataset to help the retrieval. \n",
    "\n",
    "References: \n",
    "\n",
    "- Maahn, M., D. D. Turner, U. Löhnert, D. J. Posselt, K. Ebell, G. G. Mace, and J. M. Comstock, 2020: Optimal Estimation Retrievals and Their Uncertainties: What Every Atmospheric Scientist Should Know. Bull. Amer. Meteor. Soc., 101, E1512–E1523, https://doi.org/10.1175/BAMS-D-19-0027.1.\n",
    "\n",
    "- Turner, D. D., and U. Löhnert, 2014: Information Content and Uncertainties in Thermodynamic Profiles and Liquid Cloud Properties Retrieved from the Ground-Based Atmospheric Emitted Radiance Interferometer (AERI). J. Appl. Meteor. Climatol., 53, 752–771, https://doi.org/10.1175/JAMC-D-13-0126.1.\n",
    "\n",
    "- Turner, D. D., and W. G. Blumberg, 2019: Improvements to the AERIoe Thermodynamic Profile Retrieval Algorithm. IEEE J. Sel. Top. Appl. Earth Observations Remote Sensing, 12, 1339–1354, https://doi.org/10.1109/JSTARS.2018.2874968.\n",
    "\n",
    "### Contents\n",
    "- CBH Plotting (explain default cbh (sensitivity to low LWP))\n",
    "- Go over the different RMS values\n",
    "- Observation vector and the flags\n",
    "- Prior/posterior covariance \n",
    "- Degrees of freedom/effective resolution/Shannon information content\n",
    "- dindices\n",
    "- Averaging kernel"
   ]
  },
  {
   "cell_type": "code",
   "execution_count": 70,
   "id": "51df9731-acb4-47aa-af3e-46430aee5576",
   "metadata": {},
   "outputs": [],
   "source": [
    "%matplotlib widget\n",
    "\n",
    "from datetime import datetime\n",
    "\n",
    "import cmocean\n",
    "import matplotlib.dates as mdates\n",
    "import matplotlib.pyplot as plt\n",
    "import numpy as np\n",
    "\n",
    "from utils import timeheight, corr_plot, cov2corr\n",
    "\n",
    "from ipywidgets import interact\n"
   ]
  },
  {
   "cell_type": "markdown",
   "id": "4cadef53-a2bc-4137-9e54-e63715cfc4a6",
   "metadata": {},
   "source": [
    "### Advanced variables\n",
    "\n",
    "Lets take another look at the file we plotted in the basic notebook. Again, we will use opendap to "
   ]
  },
  {
   "cell_type": "code",
   "execution_count": 71,
   "id": "2985b0d8-9609-4006-bdeb-942dba117e40",
   "metadata": {},
   "outputs": [],
   "source": [
    "nc = Dataset('https://data.nssl.noaa.gov/thredds/dodsC/FRDD/CLAMPS/clamps/clamps1/processed/clampstropoe10.aeri_mwr.v2.C1/clampstropoe10.aeri_mwr.v2.C1.20190920.001005.cdf')"
   ]
  },
  {
   "cell_type": "code",
   "execution_count": 41,
   "id": "03156315-231a-4900-bfdf-24cdeb21c378",
   "metadata": {
    "collapsed": true,
    "jupyter": {
     "outputs_hidden": true
    },
    "tags": []
   },
   "outputs": [
    {
     "name": "stdout",
     "output_type": "stream",
     "text": [
      "**base_time**: Epoch time -- ()\n",
      "\n",
      "**time_offset**: Time offset from base_time -- ('time',)\n",
      "\n",
      "**hour**: Time -- ('time',)\n",
      "\n",
      "**qc_flag**: Manual QC flag -- ('time',)\n",
      "\n",
      "**height**: height -- ('height',)\n",
      "\n",
      "**temperature**: temperature -- ('time', 'height')\n",
      "\n",
      "**waterVapor**: water vapor mixing ratio -- ('time', 'height')\n",
      "\n",
      "**lwp**: liquid water path -- ('time',)\n",
      "\n",
      "**lReff**: liquid water effective radius -- ('time',)\n",
      "\n",
      "**iTau**: ice cloud optical depth (geometric limit) -- ('time',)\n",
      "\n",
      "**iReff**: ice effective radius -- ('time',)\n",
      "\n",
      "**co2**: carbon dioxide concentration -- ('time', 'gas_dim')\n",
      "\n",
      "**ch4**: methane concentration -- ('time', 'gas_dim')\n",
      "\n",
      "**n2o**: nitrous oxide concentration -- ('time', 'gas_dim')\n",
      "\n",
      "**sigma_temperature**: 1-sigma uncertainty in temperature -- ('time', 'height')\n",
      "\n",
      "**sigma_waterVapor**: 1-sigma uncertainty in water vapor mixing vapor -- ('time', 'height')\n",
      "\n",
      "**sigma_lwp**: 1-sigma uncertainty in liquid water path -- ('time',)\n",
      "\n",
      "**sigma_lReff**: 1-sigma uncertainty in liquid water effective radius -- ('time',)\n",
      "\n",
      "**sigma_iTau**: 1-sigma uncertainty in ice cloud optical depth (geometric limit) -- ('time',)\n",
      "\n",
      "**sigma_iReff**: 1-sigma uncertainty in ice effective radius -- ('time',)\n",
      "\n",
      "**sigma_co2**: 1-sigma uncertainty in carbon dioxide concentration -- ('time', 'gas_dim')\n",
      "\n",
      "**sigma_ch4**: 1-sigma uncertainty in methane concentration -- ('time', 'gas_dim')\n",
      "\n",
      "**sigma_n2o**: 1-sigma uncertaintiy in nitrous oxide concentration -- ('time', 'gas_dim')\n",
      "\n",
      "**converged_flag**: convergence flag -- ('time',)\n",
      "\n",
      "**gamma**: gamma parameter -- ('time',)\n",
      "\n",
      "**n_iter**: number of iterations performed -- ('time',)\n",
      "\n",
      "**rmsr**: root mean square error between AERI obs in the observation vector and the forward calculation -- ('time',)\n",
      "\n",
      "**rmsa**: root mean square error between observation vector and the forward calculation -- ('time',)\n",
      "\n",
      "**rmsp**: root mean square error between prior T/q profile and the retrieved T/q profile -- ('time',)\n",
      "\n",
      "**chi2**: Chi-square statistic of Y vs. F(Xn) -- ('time',)\n",
      "\n",
      "**convergence_criteria**: convergence criteria di^2 -- ('time',)\n",
      "\n",
      "**dfs**: degrees of freedom of signal -- ('time', 'dfs')\n",
      "\n",
      "**sic**: Shannon information content -- ('time',)\n",
      "\n",
      "**vres_temperature**: Vertical resolution of the temperature profile -- ('time', 'height')\n",
      "\n",
      "**vres_waterVapor**: Vertical resolution of the water vapor profile -- ('time', 'height')\n",
      "\n",
      "**hatchOpen**: Flag indicating if the AERIs hatch was open -- ('time',)\n",
      "\n",
      "**cbh**: Cloud base height -- ('time',)\n",
      "\n",
      "**cbh_flag**: Flag indicating the source of the cbh -- ('time',)\n",
      "\n",
      "**pressure**: derived pressure -- ('time', 'height')\n",
      "\n",
      "**theta**: potential temperature -- ('time', 'height')\n",
      "\n",
      "**thetae**: euivalent potential temperature -- ('time', 'height')\n",
      "\n",
      "**rh**: relative humidity -- ('time', 'height')\n",
      "\n",
      "**dewpt**: dew point temperature -- ('time', 'height')\n",
      "\n",
      "**dindices**: derived indices -- ('time', 'index_dim')\n",
      "\n",
      "**sigma_dindices**: 1-sigma uncertainties in the derived indices -- ('time', 'index_dim')\n",
      "\n",
      "**obs_flag**: Flag indicating type of observation for each vector element -- ('obs_dim',)\n",
      "\n",
      "**obs_dim**: Dimension of the observation vector -- ('obs_dim',)\n",
      "\n",
      "**obs_vector**: Observation vector Y -- ('time', 'obs_dim')\n",
      "\n",
      "**obs_vector_uncertainty**: 1-sigma uncertainty in the observation vector (sigY) -- ('time', 'obs_dim')\n",
      "\n",
      "**forward_calc**: Forward calculation from state vector (i.e., F(Xn)) -- ('time', 'obs_dim')\n",
      "\n",
      "**arb**: arbitrary dimension -- ('arb',)\n",
      "\n",
      "**Xop**: optimal solution -- ('time', 'arb')\n",
      "\n",
      "**Sop**: covariance matrix of the solution -- ('time', 'arb', 'arb')\n",
      "\n",
      "**Akernal**: averaging kernal -- ('time', 'arb', 'arb')\n",
      "\n",
      "**Xa**: prior mean state -- ('arb',)\n",
      "\n",
      "**Sa**: prior covariance -- ('arb', 'arb')\n",
      "\n",
      "**lat**: latitude -- ()\n",
      "\n",
      "**lon**: longitude -- ()\n",
      "\n",
      "**alt**: altitude -- ()\n",
      "\n"
     ]
    }
   ],
   "source": [
    "for v in nc.variables:\n",
    "    print(f\"**{v}**: {nc.variables[v].long_name} -- {nc.variables[v].dimensions}\\n\")"
   ]
  },
  {
   "cell_type": "markdown",
   "id": "68da328f-8c6f-4ed0-9968-f236fa55aa9c",
   "metadata": {},
   "source": [
    "Before, I filtered out a lot of the variables that were not directly related to the thermodynamic profile. Now we need to be familiar with the whole list. A few things to note:\n",
    "\n",
    "- TROPoe retrieves cloud properties like liquid water path, effective radius of liquid water and ice\n",
    "- TROPoe also has the ability to retrieve trace gas profiles (CO2, CH4, N2O). This is experiemental and should not be used at the moment\n",
    "- The retrieval contains cloud based height information\n",
    "- The output files contain the full observation vector as well as the forward calculation of the derived solution (i.e. $F(\\mathbf{X}_{op})$)\n",
    "- The output files contain the prior and posterior covariance matrices \n",
    "\n",
    "Here is a list of all the variables and their description from the netcdf file:\n",
    "\n",
    "**base_time**: Epoch time -- ()\n",
    "\n",
    "**time_offset**: Time offset from base_time -- ('time',)\n",
    "\n",
    "**hour**: Time -- ('time',)\n",
    "\n",
    "**qc_flag**: Manual QC flag -- ('time',)\n",
    "\n",
    "**height**: height -- ('height',)\n",
    "\n",
    "**temperature**: temperature -- ('time', 'height')\n",
    "\n",
    "**waterVapor**: water vapor mixing ratio -- ('time', 'height')\n",
    "\n",
    "**lwp**: liquid water path -- ('time',)\n",
    "\n",
    "**lReff**: liquid water effective radius -- ('time',)\n",
    "\n",
    "**iTau**: ice cloud optical depth (geometric limit) -- ('time',)\n",
    "\n",
    "**iReff**: ice effective radius -- ('time',)\n",
    "\n",
    "**co2**: carbon dioxide concentration -- ('time', 'gas_dim')\n",
    "\n",
    "**ch4**: methane concentration -- ('time', 'gas_dim')\n",
    "\n",
    "**n2o**: nitrous oxide concentration -- ('time', 'gas_dim')\n",
    "\n",
    "**sigma_temperature**: 1-sigma uncertainty in temperature -- ('time', 'height')\n",
    "\n",
    "**sigma_waterVapor**: 1-sigma uncertainty in water vapor mixing vapor -- ('time', 'height')\n",
    "\n",
    "**sigma_lwp**: 1-sigma uncertainty in liquid water path -- ('time',)\n",
    "\n",
    "**sigma_lReff**: 1-sigma uncertainty in liquid water effective radius -- ('time',)\n",
    "\n",
    "**sigma_iTau**: 1-sigma uncertainty in ice cloud optical depth (geometric limit) -- ('time',)\n",
    "\n",
    "**sigma_iReff**: 1-sigma uncertainty in ice effective radius -- ('time',)\n",
    "\n",
    "**sigma_co2**: 1-sigma uncertainty in carbon dioxide concentration -- ('time', 'gas_dim')\n",
    "\n",
    "**sigma_ch4**: 1-sigma uncertainty in methane concentration -- ('time', 'gas_dim')\n",
    "\n",
    "**sigma_n2o**: 1-sigma uncertaintiy in nitrous oxide concentration -- ('time', 'gas_dim')\n",
    "\n",
    "**converged_flag**: convergence flag -- ('time',)\n",
    "\n",
    "**gamma**: gamma parameter -- ('time',)\n",
    "\n",
    "**n_iter**: number of iterations performed -- ('time',)\n",
    "\n",
    "**rmsr**: root mean square error between AERI obs in the observation vector and the forward calculation -- ('time',)\n",
    "\n",
    "**rmsa**: root mean square error between observation vector and the forward calculation -- ('time',)\n",
    "\n",
    "**rmsp**: root mean square error between prior T/q profile and the retrieved T/q profile -- ('time',)\n",
    "\n",
    "**chi2**: Chi-square statistic of Y vs. F(Xn) -- ('time',)\n",
    "\n",
    "**convergence_criteria**: convergence criteria di^2 -- ('time',)\n",
    "\n",
    "**dfs**: degrees of freedom of signal -- ('time', 'dfs')\n",
    "\n",
    "**sic**: Shannon information content -- ('time',)\n",
    "\n",
    "**vres_temperature**: Vertical resolution of the temperature profile -- ('time', 'height')\n",
    "\n",
    "**vres_waterVapor**: Vertical resolution of the water vapor profile -- ('time', 'height')\n",
    "\n",
    "**hatchOpen**: Flag indicating if the AERIs hatch was open -- ('time',)\n",
    "\n",
    "**cbh**: Cloud base height -- ('time',)\n",
    "\n",
    "**cbh_flag**: Flag indicating the source of the cbh -- ('time',)\n",
    "\n",
    "**pressure**: derived pressure -- ('time', 'height')\n",
    "\n",
    "**theta**: potential temperature -- ('time', 'height')\n",
    "\n",
    "**thetae**: euivalent potential temperature -- ('time', 'height')\n",
    "\n",
    "**rh**: relative humidity -- ('time', 'height')\n",
    "\n",
    "**dewpt**: dew point temperature -- ('time', 'height')\n",
    "\n",
    "**dindices**: derived indices -- ('time', 'index_dim')\n",
    "\n",
    "**sigma_dindices**: 1-sigma uncertainties in the derived indices -- ('time', 'index_dim')\n",
    "\n",
    "**obs_flag**: Flag indicating type of observation for each vector element -- ('obs_dim',)\n",
    "\n",
    "**obs_dim**: Dimension of the observation vector -- ('obs_dim',)\n",
    "\n",
    "**obs_vector**: Observation vector Y -- ('time', 'obs_dim')\n",
    "\n",
    "**obs_vector_uncertainty**: 1-sigma uncertainty in the observation vector (sigY) -- ('time', 'obs_dim')\n",
    "\n",
    "**forward_calc**: Forward calculation from state vector (i.e., F(Xn)) -- ('time', 'obs_dim')\n",
    "\n",
    "**arb**: arbitrary dimension -- ('arb',)\n",
    "\n",
    "**Xop**: optimal solution -- ('time', 'arb')\n",
    "\n",
    "**Sop**: covariance matrix of the solution -- ('time', 'arb', 'arb')\n",
    "\n",
    "**Akernal**: averaging kernal -- ('time', 'arb', 'arb')\n",
    "\n",
    "**Xa**: prior mean state -- ('arb',)\n",
    "\n",
    "**Sa**: prior covariance -- ('arb', 'arb')\n",
    "\n",
    "**lat**: latitude -- ()\n",
    "\n",
    "**lon**: longitude -- ()\n",
    "\n",
    "**alt**: altitude -- ()"
   ]
  },
  {
   "cell_type": "markdown",
   "id": "0af49eef-8c73-4426-bfbc-f82b82f147ad",
   "metadata": {},
   "source": [
    "### Cloud base height\n",
    "Now lets revisit the time height plot from the TROPoe Basics notebook. This time, we'll plot the cloud base height (CBH) on top of the color fill. When using TROPoe data from CLAMPS, the CBH is calculated from the Doppler lidar backscatter during vertical stares. If no cloud is detected throughout the profile, or if there is no lidar data available, we set a default CBH. This is typically set to 1 or 2 km. The reason we include this even though there is no cloud detected by the lidar is due to the high sensitivity of the AERI to low values of LWP (<60 g~m${-2}$). Clouds with low LWP are often 'invisible' to lidar and celiometers thus we assume one to be present. If the sky is actually cloud free, then the retrieved LWP still should go to zero (within the proper uncertainty levels).\n",
    "\n",
    "Looking at the figure below, CBH is relatively low throughout the period. Above the CBH point we see a lot of streaking in the retrieval. This is actually expected and important to know. Generally, we only trust AERI retrievals below cloud base height since the AERI can not 'see' into clouds. MWRs are able to 'see' a into some clouds, but we still typically trust the data below CBH more. \n",
    "\n",
    "We can also see what happened during the 10Z and 15Z time frame based on the constant CBH at 2 km. During this time period, the lidar was not operational and the cloud base height defaulted to 2 km. Extrapolating the data from before the data outage to the data after the outage, we can conclude that 2 km is much higher than the actual CBH during the outage, thus the retrieval looks drastically different during this period. "
   ]
  },
  {
   "cell_type": "code",
   "execution_count": 42,
   "id": "0258738a-fdff-470f-acca-90b2b639ba07",
   "metadata": {},
   "outputs": [
    {
     "name": "stderr",
     "output_type": "stream",
     "text": [
      "<ipython-input-42-229d530f6d3e>:6: RuntimeWarning: More than 20 figures have been opened. Figures created through the pyplot interface (`matplotlib.pyplot.figure`) are retained until explicitly closed and may consume too much memory. (To control this warning, see the rcParam `figure.max_open_warning`).\n",
      "  fig, (temp_ax, wvmr_ax) =  plt.subplots(2, sharex=True)\n"
     ]
    },
    {
     "data": {
      "application/vnd.jupyter.widget-view+json": {
       "model_id": "2c2aeed8a53d4f22b95c6a1f7bdcd656",
       "version_major": 2,
       "version_minor": 0
      },
      "text/plain": [
       "Canvas(toolbar=Toolbar(toolitems=[('Home', 'Reset original view', 'home', 'home'), ('Back', 'Back to previous …"
      ]
     },
     "metadata": {},
     "output_type": "display_data"
    },
    {
     "name": "stderr",
     "output_type": "stream",
     "text": [
      "/Users/tyler.bell/Projects/CLAMPS_Demos/utils.py:89: MatplotlibDeprecationWarning: shading='flat' when X and Y have the same dimensions as C is deprecated since 3.3.  Either specify the corners of the quadrilaterals with X and Y, or pass shading='auto', 'nearest' or 'gouraud', or set rcParams['pcolor.shading'].  This will become an error two minor releases later.\n",
      "  c = ax.pcolormesh(time, height, data, vmin=datamin, vmax=datamax, cmap=cm, **kwargs)\n"
     ]
    },
    {
     "data": {
      "text/plain": [
       "<matplotlib.collections.PathCollection at 0x7f9293ddbb50>"
      ]
     },
     "execution_count": 42,
     "metadata": {},
     "output_type": "execute_result"
    }
   ],
   "source": [
    "# Get the times and make sure they are sorted\n",
    "t = [datetime.utcfromtimestamp(d) for d in (nc['base_time'][:]+nc['time_offset'][:])]\n",
    "h = nc['height'][:]\n",
    "\n",
    "# Create the figure \n",
    "fig, (temp_ax, wvmr_ax) =  plt.subplots(2, sharex=True)\n",
    "fig.set_figheight(7.5)\n",
    "fig.set_figwidth(12.5)\n",
    "\n",
    "X, Y = np.meshgrid(t, h)\n",
    "\n",
    "timeheight(X, Y, nc['temperature'][:].T, 't', temp_ax, zmin=0, zmax=3, datamin=0, datamax=30)\n",
    "timeheight(X, Y, nc['waterVapor'][:].T, 'q', wvmr_ax, zmin=0, zmax=3, datamin=0, datamax=15)\n",
    "\n",
    "ind = np.where(nc['cbh'] == 0)\n",
    "\n",
    "temp_ax.scatter(t, nc['cbh'][:], color='k', marker='x')\n",
    "wvmr_ax.scatter(t, nc['cbh'][:], color='k', marker='x')"
   ]
  },
  {
   "cell_type": "markdown",
   "id": "06013207-ddd2-4e05-a9ce-6e6572590686",
   "metadata": {},
   "source": [
    "### RMS Error\n",
    "\n",
    "Another way to evaluate how well the retrieval is performing is to look at the root mean square (RMS) error between the actual observations and the synthetic observations calculated by the forward model. These values are included in the netcdf file. You will notice that there are three different RMS varibles: rmsr, rmsa, and rmsp. These are all slightly different in meaning. It is particularly difficult to interpret RMS from these retrievals since the observation vector often has measurements from many different instruments and they all are not necessicairly the same unit. \n",
    "\n",
    "- **RMSR**: RMS of only the AERI observations included in the observation vector. \n",
    "- **RMSA**: RMS of the full observation vector. So this can include mixed units and changes drastically based on what observations are included in the retrieval. It is often difficult to interpret physically due to the mixed units. \n",
    "- **RMSP**: RMS of your retrieval compared to the prior. So this can give you information about how far away from the climatology a solution may be. \n",
    "\n",
    "An example of each is shown below. \n"
   ]
  },
  {
   "cell_type": "code",
   "execution_count": 43,
   "id": "fa02ac13-7eec-416c-87b9-37a180960a5f",
   "metadata": {},
   "outputs": [
    {
     "data": {
      "application/vnd.jupyter.widget-view+json": {
       "model_id": "8dbebd0bddf34fd1a2dc0018c64c5363",
       "version_major": 2,
       "version_minor": 0
      },
      "text/plain": [
       "Canvas(toolbar=Toolbar(toolitems=[('Home', 'Reset original view', 'home', 'home'), ('Back', 'Back to previous …"
      ]
     },
     "metadata": {},
     "output_type": "display_data"
    },
    {
     "data": {
      "text/plain": [
       "<matplotlib.legend.Legend at 0x7f925c5ddcd0>"
      ]
     },
     "execution_count": 43,
     "metadata": {},
     "output_type": "execute_result"
    }
   ],
   "source": [
    "plt.figure(figsize=(10, 5))\n",
    "plt.plot(t, nc['rmsr'][:], label=\"RMSR\")\n",
    "plt.plot(t, nc['rmsa'][:], label=\"RMSA\")\n",
    "plt.plot(t, nc['rmsp'][:], label=\"RMSP\")\n",
    "plt.ylabel(\"RMS\")\n",
    "plt.xlabel(\"Time UTC\")\n",
    "plt.title(t[0])\n",
    "plt.legend()"
   ]
  },
  {
   "cell_type": "markdown",
   "id": "9201c2e1-27eb-4cf9-804a-5c44fcfaf8e2",
   "metadata": {},
   "source": [
    "### The forward model and observation vector\n",
    "\n",
    "We can also look at these RMS values in context of the observation vector. The below figure adds the difference between the observation vector $\\mathbf{Y}$ and the forward model $F(\\mathbf{X})$. Ideally, all the values are zero. However, there are often differences. Remember, this is again mixed units, so be sure to look at the `obs_flag` documentation to know what you are looking at. If we look below, you will see the following observations are included in the retrieval:\n",
    "\n",
    "- AERI \n",
    "- MWR\n",
    "- Surface met T\n",
    "- Surface met WVMR\n",
    "- RAP T above 4km \n",
    "- RAP WVMR above 4 km"
   ]
  },
  {
   "cell_type": "code",
   "execution_count": 61,
   "id": "0a5f58f0-2750-43ad-bdec-fccfe568b47a",
   "metadata": {},
   "outputs": [
    {
     "data": {
      "text/plain": [
       "<class 'netCDF4._netCDF4.Variable'>\n",
       "int16 obs_flag(obs_dim)\n",
       "    long_name: Flag indicating type of observation for each vector element\n",
       "    units: mixed units -- see comments below\n",
       "    value_01: cm^(-1) (i.e., wavenumber)\n",
       "    value_02: Brightness temperature in K from a zenith-microwave radiometer\n",
       "    value_05: Surface met temeprature in C from Microwave radiometer met station\n",
       "    value_05_comment1: Surface met station is 3 m above height=0 level\n",
       "    value_05_comment2: Adding 5.0 C to uncertainty to account for representativeness error\n",
       "    value_06: Surface met water vapor in g/kg from Microwave radiometer met station\n",
       "    value_06_comment1: Surface met station is 3 m above height=0 level\n",
       "    value_07: Temperature in C from NWP model output from RUC/RAP (NCEI THREDDS) at 45.6268162051015 degN, -91.9173866962401 degE\n",
       "    value_08: Water vapor in g/kg from NWP model output from RUC/RAP (NCEI THREDDS) at 45.6268162051015 degN, -91.9173866962401 degE\n",
       "unlimited dimensions: \n",
       "current shape = (372,)\n",
       "filling off"
      ]
     },
     "execution_count": 61,
     "metadata": {},
     "output_type": "execute_result"
    }
   ],
   "source": [
    "nc['obs_flag']"
   ]
  },
  {
   "cell_type": "code",
   "execution_count": 63,
   "id": "981b214d-9211-48e9-a677-86e1ab6370da",
   "metadata": {},
   "outputs": [
    {
     "data": {
      "application/vnd.jupyter.widget-view+json": {
       "model_id": "2e0fa3ab30da48809c4cf546befb47c7",
       "version_major": 2,
       "version_minor": 0
      },
      "text/plain": [
       "Canvas(toolbar=Toolbar(toolitems=[('Home', 'Reset original view', 'home', 'home'), ('Back', 'Back to previous …"
      ]
     },
     "metadata": {},
     "output_type": "display_data"
    },
    {
     "data": {
      "application/vnd.jupyter.widget-view+json": {
       "model_id": "8f9a3af719374deaa2c2cd1ca1bce23c",
       "version_major": 2,
       "version_minor": 0
      },
      "text/plain": [
       "interactive(children=(IntSlider(value=71, description='ind', max=142), Output()), _dom_classes=('widget-intera…"
      ]
     },
     "metadata": {},
     "output_type": "display_data"
    }
   ],
   "source": [
    "fig, (ax1, ax2) = plt.subplots(2, 1)\n",
    "fig.set_figheight(7.5)\n",
    "fig.set_figwidth(10)\n",
    "\n",
    "ind = 25\n",
    "@interact(ind=(0, nc.dimensions['time'].size-1))\n",
    "def plot_fwd(ind):\n",
    "    ax1.cla()\n",
    "    ax1.plot(t, nc['rmsr'][:], label=\"RMSR\")\n",
    "    ax1.plot(t, nc['rmsa'][:], label=\"RMSA\")\n",
    "    ax1.plot(t, nc['rmsp'][:], label=\"RMSP\")\n",
    "    \n",
    "    ax1.vlines(t[ind], 0, 100, color='k')\n",
    "    ax1.set_ylim(0, 10)\n",
    "    ax1.legend()\n",
    "    \n",
    "    ax2.cla()\n",
    "    \n",
    "    for dim in np.unique(nc['obs_flag'][:]):\n",
    "        foo = np.where(nc['obs_flag'][:] == dim)[0]\n",
    "        ax2.scatter(np.arange(0, nc.dimensions['obs_dim'].size)[foo], nc['forward_calc'][:][ind, foo]-nc['obs_vector'][:][ind, foo], marker='.', cmap='Accent', label=dim)\n",
    "    \n",
    "    ax2.set_xlabel(\"Observation index\")\n",
    "    ax2.set_ylabel(\"F(X) - Y\")\n",
    "    ax2.legend()\n",
    "\n",
    "    plt.grid()\n"
   ]
  },
  {
   "cell_type": "markdown",
   "id": "c3648675-202d-462f-8634-e3d91ab9dc76",
   "metadata": {},
   "source": [
    "### Effective Resolution    \n",
    "\n",
    "One of the interesting things we get out of a retrieval like TROPoe is all of the intermediate matricies in the calculation. They contain a wealth of information about how well the retrieval is performing.  An important point of this retrieval is that although we have specified 55 independent levels for both temperature and water vapor mixing ratio, there are not 55 independent pieces of information. One of the things we can calculate from an optimal estimation retrieval is the effective resolution. These are directly included in output files. \n",
    "\n",
    "If we look at the effective resolution from the file we have been working with, we see how quickly AERI and MWR observations lose information content. The main contributers to the information content in the profile below 4 km are the observations from the AERI and MWR. Note that often, toward the top of the average boundary layer, the effective resolution is approximately the depth of the boundary layer! This highlights the importantance of a quality prior dataset. We rely on that prior and its covariances to effectively retrieve realistic profiles. Around 4 km, the data from the RAP kicks in and we see a large decrease in effective resolution. "
   ]
  },
  {
   "cell_type": "code",
   "execution_count": 66,
   "id": "bb372d85-2d45-410a-8ec0-f7981b58731f",
   "metadata": {},
   "outputs": [
    {
     "data": {
      "application/vnd.jupyter.widget-view+json": {
       "model_id": "493ad5a9edb74239822a5b16c70f2576",
       "version_major": 2,
       "version_minor": 0
      },
      "text/plain": [
       "Canvas(toolbar=Toolbar(toolitems=[('Home', 'Reset original view', 'home', 'home'), ('Back', 'Back to previous …"
      ]
     },
     "metadata": {},
     "output_type": "display_data"
    },
    {
     "data": {
      "application/vnd.jupyter.widget-view+json": {
       "model_id": "c77826de01aa468c9899bedef9b1a387",
       "version_major": 2,
       "version_minor": 0
      },
      "text/plain": [
       "interactive(children=(IntSlider(value=71, description='ind', max=142), Output()), _dom_classes=('widget-intera…"
      ]
     },
     "metadata": {},
     "output_type": "display_data"
    }
   ],
   "source": [
    "\n",
    "fig, (ax1, ax2) = plt.subplots(1, 2)\n",
    "fig.set_figheight(5)\n",
    "fig.set_figwidth(10)\n",
    "\n",
    "\n",
    "@interact(ind=(0, nc.dimensions['time'].size-1))\n",
    "def doplot_vres(ind):\n",
    "    t_op = nc['temperature'][:][ind]\n",
    "    t_err = nc['sigma_temperature'][:][ind]\n",
    "    ax1.cla()\n",
    "    ax1.plot(nc['vres_temperature'][:][ind]*1e3, nc['height'][:]*1e3, '-o', color='maroon')\n",
    "#     ax1.fill_betweenx(nc['height'][:], t_op+t_err, t_op-t_err, color='maroon', alpha=.2)\n",
    "#     ax1.set_ylim(0, 3000)\n",
    "#     ax1.set_xlim(0, 5000)\n",
    "    ax1.grid()\n",
    "    ax1.set_xlabel(\"Effective Resolution [m]\")\n",
    "    ax1.set_ylabel(\"Height [m]\")\n",
    "\n",
    "    \n",
    "    w_op = nc['waterVapor'][:][ind]\n",
    "    w_err = nc['sigma_waterVapor'][:][ind]\n",
    "    ax2.cla()\n",
    "    ax2.plot(nc['vres_waterVapor'][:][ind]*1e3, nc['height'][:]*1e3, '-o', color='C0')\n",
    "    ax2.fill_betweenx(nc['height'][:], w_op+w_err, w_op-w_err, color='C0', alpha=.2)\n",
    "#     ax2.set_ylim(0, 3000)\n",
    "#     ax2.set_xlim(0, 5000)  \n",
    "    ax2.grid()\n",
    "    ax2.set_xlabel(\"Effective Resolution [m]\")\n",
    "#     ax2.set_ylabel(\"Height [m]\")\n",
    "#     plt.tight_layout()\n",
    "    plt.suptitle(t[ind])\n",
    "    "
   ]
  },
  {
   "cell_type": "markdown",
   "id": "dd1afb92-b1be-4318-90a3-516ac502121a",
   "metadata": {},
   "source": [
    "### Correlation Matrices  \n",
    "\n",
    "One final way we can evaluate the how well a retrieval is performing is by peeking at the posterior correlation matrices that are produced. It is informative to first look at what the prior correlation matrix looks like. I've included a function in `utils.py` that plots the prior/posterior _covariance_ matrix that is included in the files as temperature and moisture _correlation_ matrices. Directly below is what the correlation calculated from the prior looks like:"
   ]
  },
  {
   "cell_type": "code",
   "execution_count": 69,
   "id": "ff873ee8-a14c-4dd1-abcc-849eaedd71df",
   "metadata": {},
   "outputs": [
    {
     "data": {
      "application/vnd.jupyter.widget-view+json": {
       "model_id": "599be6bf83a94a3490633639b9c9ed5a",
       "version_major": 2,
       "version_minor": 0
      },
      "text/plain": [
       "Canvas(toolbar=Toolbar(toolitems=[('Home', 'Reset original view', 'home', 'home'), ('Back', 'Back to previous …"
      ]
     },
     "metadata": {},
     "output_type": "display_data"
    },
    {
     "name": "stdout",
     "output_type": "stream",
     "text": [
      "1.0000001\n"
     ]
    }
   ],
   "source": [
    "corr_plot(cov2corr(nc['Sa'][:]), nc['height'][:])\n",
    "plt.show()"
   ]
  },
  {
   "cell_type": "markdown",
   "id": "4471348d-dd15-402f-96bf-500b79234a11",
   "metadata": {},
   "source": [
    "Now ideally, after the retrieval is performed, we would have a diagonal matrix with all off diagonal components being zero. That would mean we have perfect information content at every level. However, as we saw above, we don't get enough information from our instruments for this to happen. We can plot the posterier correlation matricies with the same `cov2corr` function. Note that these are relatively diagonal compared to the prior correlation plots and have much less level-to-level correlation. However, like we saw in the effective resolution plots, we have a lot more off-diagonal correlation typically below 4 km due to the AERI/MWR losing information content. "
   ]
  },
  {
   "cell_type": "code",
   "execution_count": 59,
   "id": "d727ac51-66a5-491f-b259-909788026214",
   "metadata": {},
   "outputs": [
    {
     "data": {
      "application/vnd.jupyter.widget-view+json": {
       "model_id": "e239ae1000c24929a123616da7787b5d",
       "version_major": 2,
       "version_minor": 0
      },
      "text/plain": [
       "interactive(children=(IntSlider(value=71, description='ind', max=142), Output()), _dom_classes=('widget-intera…"
      ]
     },
     "metadata": {},
     "output_type": "display_data"
    }
   ],
   "source": [
    "@interact(ind=(0, nc.dimensions['time'].size-1))\n",
    "def do_corr_plot(ind):\n",
    "    plt.close()\n",
    "    corr_plot(cov2corr(nc['Sop'][:][ind]), nc['height'][:])"
   ]
  },
  {
   "cell_type": "code",
   "execution_count": null,
   "id": "cafddd09-ea13-4e39-bc97-bc35d09a0346",
   "metadata": {},
   "outputs": [],
   "source": []
  },
  {
   "cell_type": "code",
   "execution_count": null,
   "id": "ecd40f82-d267-4909-a9ff-6d29200c7952",
   "metadata": {},
   "outputs": [],
   "source": []
  },
  {
   "cell_type": "code",
   "execution_count": null,
   "id": "8a8f9874-725b-41f8-af85-03062f18eccf",
   "metadata": {},
   "outputs": [],
   "source": []
  },
  {
   "cell_type": "code",
   "execution_count": null,
   "id": "4fce48ea-ed29-4671-aadb-491b665ffe29",
   "metadata": {},
   "outputs": [],
   "source": []
  }
 ],
 "metadata": {
  "kernelspec": {
   "display_name": "Python 3",
   "language": "python",
   "name": "python3"
  },
  "language_info": {
   "codemirror_mode": {
    "name": "ipython",
    "version": 3
   },
   "file_extension": ".py",
   "mimetype": "text/x-python",
   "name": "python",
   "nbconvert_exporter": "python",
   "pygments_lexer": "ipython3",
   "version": "3.9.5"
  }
 },
 "nbformat": 4,
 "nbformat_minor": 5
}
