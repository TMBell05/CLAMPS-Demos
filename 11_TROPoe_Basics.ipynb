{
 "cells": [
  {
   "cell_type": "markdown",
   "id": "b16ca1ef-61e2-4d97-8d90-7e83d62ee932",
   "metadata": {},
   "source": [
    "# TROPoe - The Basics"
   ]
  },
  {
   "cell_type": "markdown",
   "id": "57844bbf-7fab-4498-8de8-7d39be2879b2",
   "metadata": {},
   "source": [
    "This notebook is indended to be an introduction to files produced by the Tropospheric Remotely Observed Profiling via Optimal Estimation (TROPoe) agorithm we use to retrieve temperature and humidity profiles from CLAMPS instrumentation. This algorithm uses optimal estimation to retrieve the thermodynamic state from infrared spetrometer and microwave radiometers.\n",
    "\n",
    "The Atmospheric Emitted Radiance Interferometer (AERI) measures downwelling infrared radiance from 3-19 µm at high spectral resolution. Profiles of temperature and water vapor are retrieved from these observations, as well as cloud properties and trace gas information. Two blackbody targets maintain calibration to better than 1%. AERI systems are essentially identical between the CLAMPS facilities.\n",
    "\n",
    "The Microwave Radiometer measures downwelling microwave radiance from 22 to 60 GHz in 10-20 channels (depending on model/configuration). Profiles of temperature and water vapor are retrieved from these observations. The MWR has lower vertical resolution than the AERI, but is able to get some information through clouds. These measurements are used in a thermodynamic retreival algortihm (either AERIoe or TROPoe). Both CLAMPS are equiped with a RPG HATPRO microwave radiometer.\n",
    "\n",
    "The files that TROPoe produces have a lot of information in them, but most users of these files only care about a few components of these files. This notebook will introduce the basic file structure of a TROPoe file, parse out the most commonly used variables, and provide some example figures to show best practices when plotting these type of data.\n",
    "\n",
    "For more information on optimal estimation retrievals using these instruments, here are some references:\n",
    "\n",
    "- Maahn, M., D. D. Turner, U. Löhnert, D. J. Posselt, K. Ebell, G. G. Mace, and J. M. Comstock, 2020: Optimal Estimation Retrievals and Their Uncertainties: What Every Atmospheric Scientist Should Know. Bull. Amer. Meteor. Soc., 101, E1512–E1523, https://doi.org/10.1175/BAMS-D-19-0027.1.\n",
    "\n",
    "- Turner, D. D., and U. Löhnert, 2014: Information Content and Uncertainties in Thermodynamic Profiles and Liquid Cloud Properties Retrieved from the Ground-Based Atmospheric Emitted Radiance Interferometer (AERI). J. Appl. Meteor. Climatol., 53, 752–771, https://doi.org/10.1175/JAMC-D-13-0126.1.\n",
    "\n",
    "- Turner, D. D., and W. G. Blumberg, 2019: Improvements to the AERIoe Thermodynamic Profile Retrieval Algorithm. IEEE J. Sel. Top. Appl. Earth Observations Remote Sensing, 12, 1339–1354, https://doi.org/10.1109/JSTARS.2018.2874968.\n",
    "\n"
   ]
  },
  {
   "cell_type": "code",
   "execution_count": 1,
   "id": "51df9731-acb4-47aa-af3e-46430aee5576",
   "metadata": {},
   "outputs": [],
   "source": [
    "%matplotlib widget \n",
    "from ipywidgets import interact\n",
    "\n",
    "from datetime import datetime\n",
    "\n",
    "import cmocean\n",
    "import matplotlib.dates as mdates\n",
    "import matplotlib.pyplot as plt\n",
    "import numpy as np\n",
    "\n",
    "from utils import timeheight"
   ]
  },
  {
   "cell_type": "markdown",
   "id": "04dca61b-bf96-4876-bb3c-4ca47dc071ba",
   "metadata": {},
   "source": [
    "## Basic file structure\n",
    "\n",
    "First lets open one of the datasets from our THREDDs server, as in the introduction notebook: `clampstropoe10.aeri_mwr.v2.C1.20190920.001005.cdf`\n",
    "\n",
    "The filename is split up into multiple parts and is loosely based on the ARM file name standard, though slightly modified to make it more apparent what instruments are included in the retrieval. Here is how to interpret it:\n",
    "\n",
    "- `clampstropoe10`: This means that this is a TROPoe file is produced from CLAMPS observations. The 10 means the retrieval was run at 10 minute resolution \n",
    "- `aeri_mwr`: This means that this retrieval includes both AERI and MWR observations\n",
    "- `v2`: This is the version of the retrieval. Always make sure you have the most up to date version of a retrieval since there are often multiple rounds of QC\n",
    "- `C1`: This means the observations were from CLAMPS1 \n",
    "- `20190920.001005`: This is the first observation date/time in the file\n"
   ]
  },
  {
   "cell_type": "code",
   "execution_count": 2,
   "id": "2985b0d8-9609-4006-bdeb-942dba117e40",
   "metadata": {},
   "outputs": [],
   "source": [
    "nc = Dataset('https://data.nssl.noaa.gov/thredds/dodsC/FRDD/CLAMPS/clamps/clamps1/processed/clampstropoe10.aeri_mwr.v2.C1/clampstropoe10.aeri_mwr.v2.C1.20190920.001005.cdf')"
   ]
  },
  {
   "cell_type": "markdown",
   "id": "af2070de-558f-4ef5-b245-4bb99bcb8c98",
   "metadata": {},
   "source": [
    "\n",
    "As mentioned before, if we print out the header of this netcdf, there are a large number of variables included in the file:"
   ]
  },
  {
   "cell_type": "code",
   "execution_count": 3,
   "id": "7954bc2e-f686-4429-9ab8-77c26e60ffb0",
   "metadata": {},
   "outputs": [
    {
     "data": {
      "text/plain": [
       "<class 'netCDF4._netCDF4.Dataset'>\n",
       "root group (NETCDF3_CLASSIC data model, file format DAP2):\n",
       "    algorithm_code: TROPoe Retrieval Code\n",
       "    algorithm_author: Dave Turner, Earth System Research Laboratory / NOAA dave.turner@noaa.gov\n",
       "    algorithm_comment1: TROPoe is a physical-iterative algorithm that retrieves thermodynamic profiles from a wide range of ground-based remote sensors.  It was primarily designed to use either infrared spectrometers or microwave radiometers as the primary instrument, and include observations from other sources to improve the quality of the retrieved profiles\n",
       "    algorithm_comment2: Original code was written in IDL and is described by the \"AERIoe\" papers listed below\n",
       "    algorithm_comment3: Code was ported to python by Joshua Gebauer with contributions from Tyler Bell (both at the University of Oklahoma)\n",
       "    algorithm_version: 0.2.36\n",
       "    algorithm_reference1: DD Turner and U Loehnert, Information Content and Uncertanties in Thermodynamic Profiles and Liquid Cloud Properties Retrieved from the Ground-Based Atmospheric Emitted Radiance Interferometer (AERI), J Appl Met Clim, vol 53, pp 752-771, 2014 doi:10.1175/JAMC-D-13-0126.1\n",
       "    algorithm_reference2: DD Turner and WG Blumberg, Improvements to the AERIoe thermodynamic profile retrieval algorithm. IEEE Selected Topics Appl. Earth Obs. Remote Sens., 12, 1339-1354, doi:10.1109/JSTARS.2018.2874968\n",
       "    datafile_created_on_date: 2021-01-14 15:48:45\n",
       "    datafile_created_on_machine: x86_64\n",
       "    Site: CLAMPS-1 Deployment location is in Lakeland, Wisconson\n",
       "    Instrument: AERI-113\n",
       "    Dataset_contact: Tyler Bell, CIMMS/NSSL, tyler.bell@noaa.gov\n",
       "    Processing_comment1: CBH derived from vertical stares of the CLAMPS Doppler lidar data.  AERI data has it original spectral calibration\n",
       "    Processing_comment2: RAP input for T/q from 4 - 18 km included\n",
       "    Processing_comment3: Using CLAMPS surface met water vapor data as input\n",
       "    Algorithm_version: 0.2.36$Id: compute_jacobian_deltaod.py, v 0.1 2019/07/29\n",
       "    Prior_dataset_comment: Sondes from U Wyoming site for Chanhassen, MN\n",
       "    Prior_dataset_filename: /data/clamps/priors/kmpx/Xa_Sa_datafile.55_levels.Chanhassen.month_09.cdf\n",
       "    Prior_dataset_number_profiles: 1941\n",
       "    Prior_dataset_T_inflation_factor: 1.0 at the surface to 1.0 at 1.0 km AGL\n",
       "    Prior_dataset_Q_inflation_factor: 1.0 at the surface to 1.0 at 1.0 km AGL\n",
       "    Prior_dataset_TQ_correlation_reduction_factor: 1.0\n",
       "    Total_clock_execution_time_in_s: 313.492962\n",
       "    Retrieval_option_flags: 1, 1, 1, 1, 0, 0, 0, 0, 0\n",
       "    VIP_tres: 10 minutes. Note that the sample time corresponds to the center of the averaging intervale. A value of 0 implies that no averaging was performed\n",
       "    VIP_aeri_type: 4\n",
       "    VIP_aeri_fv: 0.0\n",
       "    VIP_aeri_fa: 0.0\n",
       "    VIP_aeri_smooth_noise: 0 minutes\n",
       "    VIP_mwr_type: 2\n",
       "    VIP_mwr_rootname: mwr\n",
       "    VIP_mwr_Tb_bias_applied: 00.330,00.419,00.191,00.683,00.713,00.790,01.406,01.411,02.298,00.364,-0.068,00.005,00.029,00.091\n",
       "    VIP_cbh_type: 3\n",
       "    VIP_cbh_window_in: 20\n",
       "    VIP_cbh_window_out: 180\n",
       "    VIP_external_temp_profile_type: 0\n",
       "    VIP_external_wv_profile_type: 0\n",
       "    VIP_model_temp_profile_type: 4\n",
       "    VIP_model_wv_profile_type: 4\n",
       "    VIP_lblrtm_home: /home/tropoe/vip/src/lblrtm_v12.1/lblrtm\n",
       "    VIP_lblrtm_tape3: tape3.data\n",
       "    VIP_lblrtm_std_atmos: 6\n",
       "    VIP_monortm_exec: /home/tropoe/vip/src/monortm_v5.0/monortm/monortm_v5.0_linux_gnu_sgl\n",
       "    VIP_monortm_spec: /home/tropoe/vip/src/monortm_v5.0/monolnfl_v1.0/TAPE3.spectral_lines.dat.0_55.v5.0_veryfast\n",
       "    VIP_lblrtm_jac_option: 3\n",
       "    VIP_monortm_jac_option: 2\n",
       "    VIP_jac_max_ht: 8.0\n",
       "    VIP_first_guess: 1\n",
       "    VIP_superadiabatic_maxht: 300.0 m AGL\n",
       "    VIP_chimney_height: 0.0 m AGL\n",
       "    VIP_chimney_comment: All T/q/theta/thatae/dewpt/RH data below chimney height were change to -888.0\n",
       "    Total_cloack_execution_time_in_s: 40476.014329\n",
       "    DODS_EXTRA.Unlimited_Dimension: time\n",
       "    dimensions(sizes): time(143), arb(123), dfs(16), gas_dim(3), height(55), index_dim(5), obs_dim(372)\n",
       "    variables(dimensions): int32 base_time(), float64 time_offset(time), float64 hour(time), int16 qc_flag(time), float32 height(height), float32 temperature(time, height), float32 waterVapor(time, height), float32 lwp(time), float32 lReff(time), float32 iTau(time), float32 iReff(time), float32 co2(time, gas_dim), float32 ch4(time, gas_dim), float32 n2o(time, gas_dim), float32 sigma_temperature(time, height), float32 sigma_waterVapor(time, height), float32 sigma_lwp(time), float32 sigma_lReff(time), float32 sigma_iTau(time), float32 sigma_iReff(time), float32 sigma_co2(time, gas_dim), float32 sigma_ch4(time, gas_dim), float32 sigma_n2o(time, gas_dim), int16 converged_flag(time), float32 gamma(time), int16 n_iter(time), float32 rmsr(time), float32 rmsa(time), float32 rmsp(time), float32 chi2(time), float32 convergence_criteria(time), float32 dfs(time, dfs), float32 sic(time), float32 vres_temperature(time, height), float32 vres_waterVapor(time, height), int16 hatchOpen(time), float32 cbh(time), int16 cbh_flag(time), float32 pressure(time, height), float32 theta(time, height), float32 thetae(time, height), float32 rh(time, height), float32 dewpt(time, height), float32 dindices(time, index_dim), float32 sigma_dindices(time, index_dim), int16 obs_flag(obs_dim), float64 obs_dim(obs_dim), float32 obs_vector(time, obs_dim), float32 obs_vector_uncertainty(time, obs_dim), float32 forward_calc(time, obs_dim), int16 arb(arb), float32 Xop(time, arb), float32 Sop(time, arb, arb), float32 Akernal(time, arb, arb), float32 Xa(arb), float32 Sa(arb, arb), float32 lat(), float32 lon(), float32 alt()\n",
       "    groups: "
      ]
     },
     "execution_count": 3,
     "metadata": {},
     "output_type": "execute_result"
    }
   ],
   "source": [
    "nc"
   ]
  },
  {
   "cell_type": "markdown",
   "id": "bafc0e41-9127-407c-a9b1-edf7f19202e3",
   "metadata": {},
   "source": [
    "### Important meteorological variables\n",
    "\n",
    "In reality, most users of these data are interested primarily in the follwing variables and their associated dimensions:"
   ]
  },
  {
   "cell_type": "markdown",
   "id": "4e49d1d7-a3fe-4299-a0e2-afe8fa13266c",
   "metadata": {
    "jp-MarkdownHeadingCollapsed": true,
    "tags": []
   },
   "source": [
    "**base_time**: Epoch time -- ()\n",
    "\n",
    "**time_offset**: Time offset from base_time -- ('time',)\n",
    "\n",
    "**hour**: Time -- ('time',)\n",
    "\n",
    "**qc_flag**: Manual QC flag -- ('time',)\n",
    "\n",
    "**height**: height -- ('height',)\n",
    "\n",
    "**temperature**: temperature -- ('time', 'height')\n",
    "\n",
    "**waterVapor**: water vapor mixing ratio -- ('time', 'height')\n",
    "\n",
    "**sigma_temperature**: 1-sigma uncertainty in temperature -- ('time', 'height')\n",
    "\n",
    "**sigma_waterVapor**: 1-sigma uncertainty in water vapor mixing vapor -- ('time', 'height')\n",
    "\n",
    "**converged_flag**: convergence flag -- ('time',)\n",
    "\n",
    "**rmsr**: root mean square error between AERI obs in the observation vector and the forward calculation -- ('time',)\n",
    "\n",
    "**rmsa**: root mean square error between observation vector and the forward calculation -- ('time',)\n",
    "\n",
    "**rmsp**: root mean square error between prior T/q profile and the retrieved T/q profile -- ('time',)\n",
    "\n",
    "**pressure**: derived pressure -- ('time', 'height')\n",
    "\n",
    "**theta**: potential temperature -- ('time', 'height')\n",
    "\n",
    "**thetae**: euivalent potential temperature -- ('time', 'height')\n",
    "\n",
    "**rh**: relative humidity -- ('time', 'height')\n",
    "\n",
    "**dewpt**: dew point temperature -- ('time', 'height')\n",
    "\n",
    "**dindices**: derived indices -- ('time', 'index_dim')\n",
    "\n",
    "**sigma_dindices**: 1-sigma uncertainties in the derived indices -- ('time', 'index_dim')\n",
    "\n",
    "**lat**: latitude -- ()\n",
    "\n",
    "**lon**: longitude -- ()\n",
    "\n",
    "**alt**: altitude -- ()"
   ]
  },
  {
   "cell_type": "markdown",
   "id": "33e833d0-8129-4369-8cd6-1808ac2baefc",
   "metadata": {
    "tags": []
   },
   "source": [
    "There are quite a few different dimensions to these netcdfs, and that is due to the large amount of diagnosic information included in the file. We cover some of these other dimensions in the 12_TROPoe_Advanced notebook, but for now the most important are `time`, `height`, and `index_dim`. The `time` and `height` dims are pretty self explanatory, but the `index_dim` may be a little confusing. This dimension is for the derived indices (PWV, PBLH, surface inversion height, surface inversion magnitude, and LCL) contained in the `dindices` variable. The uncertainty of these variables are also calculated through Monte-Carlo simulation and stored in `sigma_dindices`. See below for which index corresponds to each variable:"
   ]
  },
  {
   "cell_type": "code",
   "execution_count": 4,
   "id": "d1da5c90-4b8c-44cc-a4e5-0b84871eed64",
   "metadata": {},
   "outputs": [
    {
     "data": {
      "text/plain": [
       "<class 'netCDF4._netCDF4.Variable'>\n",
       "float32 dindices(time, index_dim)\n",
       "    long_name: derived indices\n",
       "    units: units depends on the index; see comments below\n",
       "    comment0: This field is derived from the retrieved fields\n",
       "    comment1: A value of -999 indicates that this inded could not be computed (typically because the value was aphysical)\n",
       "    field_0_name: pwv\n",
       "    field_0_units: cm\n",
       "    field_1_name: pblh\n",
       "    field_1_units: km AGL\n",
       "    field_2_name: sbih\n",
       "    field_2_units: km AGL\n",
       "    field_3_name: sbim\n",
       "    field_3_units: C\n",
       "    field_4_name: lcl\n",
       "    field_4_units: km AGL\n",
       "    _ChunkSizes: [1 5]\n",
       "unlimited dimensions: time\n",
       "current shape = (143, 5)\n",
       "filling off"
      ]
     },
     "execution_count": 4,
     "metadata": {},
     "output_type": "execute_result"
    }
   ],
   "source": [
    "nc['dindices']"
   ]
  },
  {
   "cell_type": "markdown",
   "id": "d6632d16-cd71-4547-9561-c15b602b2313",
   "metadata": {},
   "source": [
    "### Plotting data \n",
    "Now we'll see how to plot some sample data. \n",
    "\n",
    "First we need to decode the times. This is a pretty simple way to decode times from most of the CLAMPS datasets"
   ]
  },
  {
   "cell_type": "code",
   "execution_count": 5,
   "id": "7e693c8a-2cd6-4897-b721-20db6d25a446",
   "metadata": {},
   "outputs": [],
   "source": [
    "times = np.array([datetime.utcfromtimestamp(d) for d in nc['base_time'][0]+nc['time_offset'][:]])"
   ]
  },
  {
   "cell_type": "markdown",
   "id": "5876ca63-b791-4d93-8681-4db8f1c08475",
   "metadata": {},
   "source": [
    "Now we'll plot some simple profiles of the temperature and water vapor mixing ratio, along with their uncertainty. One of the nice things about the TROPoe retrieval is the uncertainty is explicitly calculated by taking into account all the sources of uncerta"
   ]
  },
  {
   "cell_type": "code",
   "execution_count": 7,
   "id": "981b214d-9211-48e9-a677-86e1ab6370da",
   "metadata": {},
   "outputs": [
    {
     "data": {
      "application/vnd.jupyter.widget-view+json": {
       "model_id": "3557abd603604c89bc85d438b29688be",
       "version_major": 2,
       "version_minor": 0
      },
      "text/plain": [
       "Canvas(toolbar=Toolbar(toolitems=[('Home', 'Reset original view', 'home', 'home'), ('Back', 'Back to previous …"
      ]
     },
     "metadata": {},
     "output_type": "display_data"
    },
    {
     "data": {
      "application/vnd.jupyter.widget-view+json": {
       "model_id": "cc9ac236f8c9453899a83b0cc0c180c5",
       "version_major": 2,
       "version_minor": 0
      },
      "text/plain": [
       "interactive(children=(IntSlider(value=71, description='ind', max=142), Output()), _dom_classes=('widget-intera…"
      ]
     },
     "metadata": {},
     "output_type": "display_data"
    }
   ],
   "source": [
    "\n",
    "fig, (ax1, ax2) = plt.subplots(1, 2)\n",
    "fig.set_figheight(5)\n",
    "fig.set_figwidth(7.5)\n",
    "\n",
    "\n",
    "@interact(ind=(0, nc.dimensions['time'].size-1))\n",
    "def doplot(ind):\n",
    "    t_op = nc['temperature'][:][ind]\n",
    "    t_err = nc['sigma_temperature'][:][ind, :]\n",
    "    ax1.cla()\n",
    "    ax1.plot(nc['temperature'][:][ind], nc['height'][:], color='maroon')\n",
    "    ax1.fill_betweenx(nc['height'][:], t_op+t_err, t_op-t_err, color='maroon', alpha=.2)\n",
    "    ax1.set_ylim(0, 3)\n",
    "    ax1.set_xlim(0, 35)\n",
    "    ax1.grid()\n",
    "    ax1.set_xlabel(\"Temperature [C]\")\n",
    "    ax1.set_ylabel(\"Height [km]\")\n",
    "\n",
    "    \n",
    "    w_op = nc['waterVapor'][:][ind]\n",
    "    w_err = nc['sigma_waterVapor'][:][ind]\n",
    "    ax2.cla()\n",
    "    ax2.plot(nc['waterVapor'][:][ind], nc['height'][:], color='C0')\n",
    "    ax2.fill_betweenx(nc['height'][:], w_op+w_err, w_op-w_err, color='C0', alpha=.2)\n",
    "    ax2.set_ylim(0, 3)\n",
    "    ax2.set_xlim(0, 15)   \n",
    "    ax2.grid()\n",
    "    ax2.set_xlabel(\"WVMR [g/kg]\")\n",
    "    ax2.set_ylabel(\"Height [km]\")\n",
    "    \n",
    "    plt.suptitle(times[ind])"
   ]
  },
  {
   "cell_type": "markdown",
   "id": "e8aa20f4-c9bc-4233-a3e0-1b7819f89629",
   "metadata": {},
   "source": [
    "Now we will use the `timeheight` function located in `utils.py` to create a time height figure of the temperature and water vapor mixing ratio. "
   ]
  },
  {
   "cell_type": "code",
   "execution_count": 8,
   "id": "0258738a-fdff-470f-acca-90b2b639ba07",
   "metadata": {},
   "outputs": [
    {
     "data": {
      "application/vnd.jupyter.widget-view+json": {
       "model_id": "44f7e68c24224a94b727eaf1f6d486d8",
       "version_major": 2,
       "version_minor": 0
      },
      "text/plain": [
       "Canvas(toolbar=Toolbar(toolitems=[('Home', 'Reset original view', 'home', 'home'), ('Back', 'Back to previous …"
      ]
     },
     "metadata": {},
     "output_type": "display_data"
    },
    {
     "name": "stderr",
     "output_type": "stream",
     "text": [
      "/Users/tyler.bell/Projects/CLAMPS_Demos/utils.py:89: MatplotlibDeprecationWarning: shading='flat' when X and Y have the same dimensions as C is deprecated since 3.3.  Either specify the corners of the quadrilaterals with X and Y, or pass shading='auto', 'nearest' or 'gouraud', or set rcParams['pcolor.shading'].  This will become an error two minor releases later.\n",
      "  c = ax.pcolormesh(time, height, data, vmin=datamin, vmax=datamax, cmap=cm, **kwargs)\n"
     ]
    },
    {
     "data": {
      "text/plain": [
       "Text(0.5, 1.0, 'WVMR -- 2019-09-20')"
      ]
     },
     "execution_count": 8,
     "metadata": {},
     "output_type": "execute_result"
    }
   ],
   "source": [
    "# Get the times and make sure they are sorted\n",
    "t = [datetime.utcfromtimestamp(d) for d in (nc['base_time'][:]+nc['time_offset'][:])]\n",
    "h = nc['height'][:]\n",
    "\n",
    "# Create the figure \n",
    "fig, (temp_ax, wvmr_ax) =  plt.subplots(2, sharex=True)\n",
    "fig.set_figheight(7.5)\n",
    "fig.set_figwidth(12.5)\n",
    "\n",
    "X, Y = np.meshgrid(t, h)\n",
    "\n",
    "timeheight(X, Y, nc['temperature'][:].T, 't', temp_ax, zmin=0, zmax=3, datamin=0, datamax=35)\n",
    "timeheight(X, Y, nc['waterVapor'][:].T, 'q', wvmr_ax, zmin=0, zmax=3, datamin=0, datamax=18)\n",
    "\n",
    "temp_ax.set_title(f\"Temperature -- {times[0]:%Y-%m-%d}\")\n",
    "wvmr_ax.set_title(f\"WVMR -- {times[0]:%Y-%m-%d}\")"
   ]
  },
  {
   "cell_type": "markdown",
   "id": "88011cc7-11d8-4f50-8abc-7a9e03dcffa8",
   "metadata": {},
   "source": [
    "You might notice something strange happening between 10Z and 15Z. Additionally, it looks a little 'streaky' above .5 km or so. We'll investigate this a little more in the advanced notebook. "
   ]
  },
  {
   "cell_type": "code",
   "execution_count": null,
   "id": "53c841ae-0c3c-4cb9-8c21-b15f4419d8c1",
   "metadata": {},
   "outputs": [],
   "source": []
  }
 ],
 "metadata": {
  "kernelspec": {
   "display_name": "Python 3",
   "language": "python",
   "name": "python3"
  },
  "language_info": {
   "codemirror_mode": {
    "name": "ipython",
    "version": 3
   },
   "file_extension": ".py",
   "mimetype": "text/x-python",
   "name": "python",
   "nbconvert_exporter": "python",
   "pygments_lexer": "ipython3",
   "version": "3.9.5"
  }
 },
 "nbformat": 4,
 "nbformat_minor": 5
}
